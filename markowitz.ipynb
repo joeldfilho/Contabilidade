{
 "cells": [
  {
   "cell_type": "code",
   "execution_count": 16,
   "metadata": {},
   "outputs": [],
   "source": [
    "import pandas as pd \n",
    "from pandas_datareader import data\n",
    "import numpy as np\n",
    "import matplotlib.pyplot as plt"
   ]
  },
  {
   "cell_type": "code",
   "execution_count": 2,
   "metadata": {},
   "outputs": [
    {
     "data": {
      "text/html": [
       "<div>\n",
       "<style scoped>\n",
       "    .dataframe tbody tr th:only-of-type {\n",
       "        vertical-align: middle;\n",
       "    }\n",
       "\n",
       "    .dataframe tbody tr th {\n",
       "        vertical-align: top;\n",
       "    }\n",
       "\n",
       "    .dataframe thead th {\n",
       "        text-align: right;\n",
       "    }\n",
       "</style>\n",
       "<table border=\"1\" class=\"dataframe\">\n",
       "  <thead>\n",
       "    <tr style=\"text-align: right;\">\n",
       "      <th></th>\n",
       "      <th>AMZN</th>\n",
       "      <th>GOOG</th>\n",
       "      <th>MSFT</th>\n",
       "      <th>NFLX</th>\n",
       "    </tr>\n",
       "    <tr>\n",
       "      <th>Date</th>\n",
       "      <th></th>\n",
       "      <th></th>\n",
       "      <th></th>\n",
       "      <th></th>\n",
       "    </tr>\n",
       "  </thead>\n",
       "  <tbody>\n",
       "    <tr>\n",
       "      <th>2010-01-04</th>\n",
       "      <td>6.6950</td>\n",
       "      <td>15.610239</td>\n",
       "      <td>30.950001</td>\n",
       "      <td>7.640000</td>\n",
       "    </tr>\n",
       "    <tr>\n",
       "      <th>2010-01-05</th>\n",
       "      <td>6.7345</td>\n",
       "      <td>15.541497</td>\n",
       "      <td>30.959999</td>\n",
       "      <td>7.358571</td>\n",
       "    </tr>\n",
       "    <tr>\n",
       "      <th>2010-01-06</th>\n",
       "      <td>6.6125</td>\n",
       "      <td>15.149715</td>\n",
       "      <td>30.770000</td>\n",
       "      <td>7.617143</td>\n",
       "    </tr>\n",
       "    <tr>\n",
       "      <th>2010-01-07</th>\n",
       "      <td>6.5000</td>\n",
       "      <td>14.797037</td>\n",
       "      <td>30.450001</td>\n",
       "      <td>7.485714</td>\n",
       "    </tr>\n",
       "    <tr>\n",
       "      <th>2010-01-08</th>\n",
       "      <td>6.6760</td>\n",
       "      <td>14.994298</td>\n",
       "      <td>30.660000</td>\n",
       "      <td>7.614286</td>\n",
       "    </tr>\n",
       "  </tbody>\n",
       "</table>\n",
       "</div>"
      ],
      "text/plain": [
       "              AMZN       GOOG       MSFT      NFLX\n",
       "Date                                              \n",
       "2010-01-04  6.6950  15.610239  30.950001  7.640000\n",
       "2010-01-05  6.7345  15.541497  30.959999  7.358571\n",
       "2010-01-06  6.6125  15.149715  30.770000  7.617143\n",
       "2010-01-07  6.5000  14.797037  30.450001  7.485714\n",
       "2010-01-08  6.6760  14.994298  30.660000  7.614286"
      ]
     },
     "execution_count": 2,
     "metadata": {},
     "output_type": "execute_result"
    }
   ],
   "source": [
    "df = pd.DataFrame()\n",
    "df['AMZN'] = data.DataReader('AMZN', data_source='yahoo', start='1-1-2010')['Close']\n",
    "df['GOOG'] = data.DataReader('GOOG', data_source='yahoo', start='1-1-2010')['Close']\n",
    "df['MSFT'] = data.DataReader('MSFT', data_source='yahoo', start='1-1-2010')['Close']\n",
    "df['NFLX'] = data.DataReader('NFLX', data_source='yahoo', start='1-1-2010')['Close']\n",
    "\n",
    "df.head()"
   ]
  },
  {
   "cell_type": "code",
   "execution_count": 3,
   "metadata": {},
   "outputs": [
    {
     "data": {
      "text/html": [
       "<div>\n",
       "<style scoped>\n",
       "    .dataframe tbody tr th:only-of-type {\n",
       "        vertical-align: middle;\n",
       "    }\n",
       "\n",
       "    .dataframe tbody tr th {\n",
       "        vertical-align: top;\n",
       "    }\n",
       "\n",
       "    .dataframe thead th {\n",
       "        text-align: right;\n",
       "    }\n",
       "</style>\n",
       "<table border=\"1\" class=\"dataframe\">\n",
       "  <thead>\n",
       "    <tr style=\"text-align: right;\">\n",
       "      <th></th>\n",
       "      <th>AMZN</th>\n",
       "      <th>GOOG</th>\n",
       "      <th>MSFT</th>\n",
       "      <th>NFLX</th>\n",
       "    </tr>\n",
       "    <tr>\n",
       "      <th>Date</th>\n",
       "      <th></th>\n",
       "      <th></th>\n",
       "      <th></th>\n",
       "      <th></th>\n",
       "    </tr>\n",
       "  </thead>\n",
       "  <tbody>\n",
       "    <tr>\n",
       "      <th>2010-01-04</th>\n",
       "      <td>NaN</td>\n",
       "      <td>NaN</td>\n",
       "      <td>NaN</td>\n",
       "      <td>NaN</td>\n",
       "    </tr>\n",
       "    <tr>\n",
       "      <th>2010-01-05</th>\n",
       "      <td>0.005900</td>\n",
       "      <td>-0.004404</td>\n",
       "      <td>0.000323</td>\n",
       "      <td>-0.036836</td>\n",
       "    </tr>\n",
       "    <tr>\n",
       "      <th>2010-01-06</th>\n",
       "      <td>-0.018116</td>\n",
       "      <td>-0.025209</td>\n",
       "      <td>-0.006137</td>\n",
       "      <td>0.035139</td>\n",
       "    </tr>\n",
       "    <tr>\n",
       "      <th>2010-01-07</th>\n",
       "      <td>-0.017013</td>\n",
       "      <td>-0.023280</td>\n",
       "      <td>-0.010400</td>\n",
       "      <td>-0.017254</td>\n",
       "    </tr>\n",
       "    <tr>\n",
       "      <th>2010-01-08</th>\n",
       "      <td>0.027077</td>\n",
       "      <td>0.013331</td>\n",
       "      <td>0.006897</td>\n",
       "      <td>0.017176</td>\n",
       "    </tr>\n",
       "  </tbody>\n",
       "</table>\n",
       "</div>"
      ],
      "text/plain": [
       "                AMZN      GOOG      MSFT      NFLX\n",
       "Date                                              \n",
       "2010-01-04       NaN       NaN       NaN       NaN\n",
       "2010-01-05  0.005900 -0.004404  0.000323 -0.036836\n",
       "2010-01-06 -0.018116 -0.025209 -0.006137  0.035139\n",
       "2010-01-07 -0.017013 -0.023280 -0.010400 -0.017254\n",
       "2010-01-08  0.027077  0.013331  0.006897  0.017176"
      ]
     },
     "execution_count": 3,
     "metadata": {},
     "output_type": "execute_result"
    }
   ],
   "source": [
    "\n",
    "\n",
    "# Retorno simples dos ativos\n",
    "df.pct_change().head()\n",
    "\n"
   ]
  },
  {
   "cell_type": "code",
   "execution_count": 6,
   "metadata": {},
   "outputs": [],
   "source": [
    "r = df.pct_change() #retornos do ativo\n",
    "w = [0.3, 0.3, 0.2, 0.2] #pesos\n",
    "R = np.dot(r, w) #retorno do portfólio"
   ]
  },
  {
   "cell_type": "code",
   "execution_count": 7,
   "metadata": {},
   "outputs": [],
   "source": [
    "vol = df.std()"
   ]
  },
  {
   "cell_type": "code",
   "execution_count": 8,
   "metadata": {},
   "outputs": [],
   "source": [
    "# retorno simples \n",
    "r = df.pct_change()\n",
    "\n",
    "# média dos retornos anualizados \n",
    "mean_returns = r.mean() * 252\n",
    "\n",
    "# matriz de covariância \n",
    "covariance = np.cov(r[1:].T)"
   ]
  },
  {
   "cell_type": "code",
   "execution_count": 9,
   "metadata": {},
   "outputs": [
    {
     "ename": "AttributeError",
     "evalue": "'list' object has no attribute 'T'",
     "output_type": "error",
     "traceback": [
      "\u001b[1;31m---------------------------------------------------------------------------\u001b[0m",
      "\u001b[1;31mAttributeError\u001b[0m                            Traceback (most recent call last)",
      "\u001b[1;32me:\\USP\\Contabilidade\\markowitz.ipynb Célula: 7\u001b[0m in \u001b[0;36m<module>\u001b[1;34m\u001b[0m\n\u001b[0;32m      <a href='vscode-notebook-cell:/e%3A/USP/Contabilidade/markowitz.ipynb#X10sZmlsZQ%3D%3D?line=0'>1</a>\u001b[0m \u001b[39m# Risco do portfólio anualizado\u001b[39;00m\n\u001b[1;32m----> <a href='vscode-notebook-cell:/e%3A/USP/Contabilidade/markowitz.ipynb#X10sZmlsZQ%3D%3D?line=1'>2</a>\u001b[0m vol \u001b[39m=\u001b[39m np\u001b[39m.\u001b[39msqrt(np\u001b[39m.\u001b[39mdot(w\u001b[39m.\u001b[39;49mT, np\u001b[39m.\u001b[39mdot(covariance, w))) \u001b[39m*\u001b[39m np\u001b[39m.\u001b[39msqrt(\u001b[39m252\u001b[39m)\n",
      "\u001b[1;31mAttributeError\u001b[0m: 'list' object has no attribute 'T'"
     ]
    }
   ],
   "source": [
    "# Risco do portfólio anualizado\n",
    "vol = np.sqrt(np.dot(w.T, np.dot(covariance, w))) * np.sqrt(252)"
   ]
  },
  {
   "cell_type": "code",
   "execution_count": 10,
   "metadata": {},
   "outputs": [],
   "source": [
    "def generate_wallets(df_close, num_portfolios = 10000, risk_free = 0):\n",
    "    # vetores de dados\n",
    "    portfolio_weights = []\n",
    "    portfolio_exp_returns = []\n",
    "    portfolio_vol = []\n",
    "    portfolio_sharpe = []\n",
    "\n",
    "    # retorno simples \n",
    "    r = df.pct_change()\n",
    "    mean_returns = r.mean() * 252\n",
    "\n",
    "    # matriz de covariância \n",
    "    covariance = np.cov(r[1:].T)\n",
    "\n",
    "    for i in range(num_portfolios):\n",
    "        # gerando pesos aleatórios\n",
    "        k = np.random.rand(len(df.columns))\n",
    "        w = k / sum (k)\n",
    "\n",
    "        # retorno\n",
    "        R = np.dot(mean_returns, w)\n",
    "\n",
    "        # risco\n",
    "        vol = np.sqrt(np.dot(w.T, np.dot(covariance, w))) * np.sqrt(252)\n",
    "\n",
    "        # sharpe ratio\n",
    "        sharpe = (R - risk_free)/vol\n",
    "\n",
    "        portfolio_weights.append(w)\n",
    "        portfolio_exp_returns.append(R)\n",
    "        portfolio_vol.append(vol)\n",
    "        portfolio_sharpe.append(sharpe)\n",
    "\n",
    "    wallets = {'weights': portfolio_weights,\n",
    "              'returns': portfolio_exp_returns,\n",
    "              'vol':portfolio_vol,\n",
    "              'sharpe': portfolio_sharpe}\n",
    "\n",
    "    return wallets"
   ]
  },
  {
   "cell_type": "code",
   "execution_count": 11,
   "metadata": {},
   "outputs": [],
   "source": [
    "def best_portfolio(wallets):\n",
    "    sharpe = wallets['sharpe']\n",
    "    weights = wallets['weights']\n",
    "    \n",
    "    indice = np.array(sharpe).argmax()\n",
    "        \n",
    "    return weights[indice]"
   ]
  },
  {
   "cell_type": "code",
   "execution_count": 12,
   "metadata": {},
   "outputs": [
    {
     "data": {
      "text/plain": [
       "array([0.31209387, 0.04506347, 0.3570984 , 0.28574427])"
      ]
     },
     "execution_count": 12,
     "metadata": {},
     "output_type": "execute_result"
    }
   ],
   "source": [
    "wallets = generate_wallets(df)\n",
    "best_portfolio(wallets)"
   ]
  },
  {
   "cell_type": "code",
   "execution_count": 17,
   "metadata": {},
   "outputs": [],
   "source": [
    "def plot_efficient_frontier(wallets):\n",
    "    vol = wallets['vol']\n",
    "    returns = wallets['returns']\n",
    "    sharpe = wallets['sharpe']\n",
    "\n",
    "    indice = np.array(sharpe).argmax()\n",
    "    y_axis = returns[indice]\n",
    "    X_axis = vol[indice]\n",
    "\n",
    "    plt.scatter(vol, returns, c = sharpe, cmap = 'viridis')\n",
    "    plt.scatter(X_axis, y_axis, c = 'red', s = 50)\n",
    "    plt.title(\"Efficient Frontier\")\n",
    "    plt.xlabel(\"Volatility\")\n",
    "    plt.ylabel(\"Expected return\")\n",
    "    plt.show()"
   ]
  },
  {
   "cell_type": "code",
   "execution_count": 18,
   "metadata": {},
   "outputs": [
    {
     "data": {
      "image/png": "[encoded data removed]",
      "text/plain": [
       "<Figure size 432x288 with 1 Axes>"
      ]
     },
     "metadata": {
      "needs_background": "light"
     },
     "output_type": "display_data"
    }
   ],
   "source": [
    "wallets = generate_wallets(df)\n",
    "plot_efficient_frontier(wallets)"
   ]
  },
  {
   "cell_type": "code",
   "execution_count": 19,
   "metadata": {},
   "outputs": [],
   "source": [
    "def best_portfolio(wallets, method = 'sharpe_ratio'):\n",
    "    vol = wallets['vol']\n",
    "    sharpe = wallets['sharpe']\n",
    "    weights = wallets['weights']\n",
    "    returns = wallets['returns']\n",
    "    \n",
    "    if method == 'sharpe_ratio':\n",
    "\n",
    "        indice = np.array(sharpe).argmax()\n",
    "\n",
    "    elif method == 'volatility':\n",
    "\n",
    "        indice = np.array(vol).argmin()\n",
    "\n",
    "    elif method == 'return':\n",
    "\n",
    "        indice = np.array(returns).argmax()\n",
    "\n",
    "    return weights[indice]"
   ]
  },
  {
   "cell_type": "code",
   "execution_count": 20,
   "metadata": {},
   "outputs": [],
   "source": [
    "def plot_efficient_frontier(wallets, method = 'sharpe_ratio'):\n",
    "    vol = wallets['vol']\n",
    "    returns = wallets['returns']\n",
    "    sharpe = wallets['sharpe']\n",
    "\n",
    "    if method == 'sharpe_ratio':\n",
    "\n",
    "        indice = np.array(sharpe).argmax()\n",
    "        y_axis = returns[indice]\n",
    "        X_axis = vol[indice]\n",
    "\n",
    "    elif method == 'volatility':\n",
    "\n",
    "        indice = np.array(vol).argmin()\n",
    "        y_axis = returns[indice]\n",
    "        X_axis = vol[indice]\n",
    "\n",
    "    elif method == 'return': \n",
    "\n",
    "        indice = np.array(returns).argmax()\n",
    "        y_axis = returns[indice]\n",
    "        X_axis = vol[indice]\n",
    "\n",
    "    plt.scatter(vol, returns, c = sharpe, cmap = 'viridis')\n",
    "    plt.scatter(X_axis, y_axis, c = 'red', s = 50)\n",
    "    plt.title(\"Efficient Frontier\")\n",
    "    plt.xlabel(\"Volatility\")\n",
    "    plt.ylabel(\"Expected return\")\n",
    "    plt.show()"
   ]
  }
 ],
 "metadata": {
  "kernelspec": {
   "display_name": "Python 3.9.2 64-bit",
   "language": "python",
   "name": "python3"
  },
  "language_info": {
   "codemirror_mode": {
    "name": "ipython",
    "version": 3
   },
   "file_extension": ".py",
   "mimetype": "text/x-python",
   "name": "python",
   "nbconvert_exporter": "python",
   "pygments_lexer": "ipython3",
   "version": "3.9.2"
  },
  "orig_nbformat": 4,
  "vscode": {
   "interpreter": {
    "hash": "11938c6bc6919ae2720b4d5011047913343b08a43b18698fd82dedb0d4417594"
   }
  }
 },
 "nbformat": 4,
 "nbformat_minor": 2
}
